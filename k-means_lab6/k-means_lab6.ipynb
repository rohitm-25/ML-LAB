{
 "cells": [
  {
   "cell_type": "code",
   "execution_count": null,
   "id": "55fbed26",
   "metadata": {},
   "outputs": [],
   "source": [
    "\n",
    "import numpy as np\n",
    "import pandas as pd\n",
    "import matplotlib.pyplot as plt\n",
    "\n",
    "def kmeans(X, K, max_iters=100):\n",
    "    # Randomly initialize centroids\n",
    "    centroids = X[np.random.choice(range(len(X)), size=K, replace=False)]\n",
    "    \n",
    "    for _ in range(max_iters):\n",
    "        # Assign each data point to the nearest centroid\n",
    "        clusters = [[] for _ in range(K)]\n",
    "        for x in X:\n",
    "            distances = [np.linalg.norm(x - centroid) for centroid in centroids]\n",
    "            cluster_index = np.argmin(distances)\n",
    "            clusters[cluster_index].append(x)\n",
    "        \n",
    "        # Update centroids\n",
    "        new_centroids = []\n",
    "        for cluster in clusters:\n",
    "            if cluster:\n",
    "                new_centroids.append(np.mean(cluster, axis=0))\n",
    "            else:\n",
    "                # If a centroid has no assigned points, keep the previous centroid value\n",
    "                new_centroids.append(centroids[clusters.index(cluster)])\n",
    "        \n",
    "        # Check for convergence\n",
    "        if np.allclose(centroids, new_centroids):\n",
    "            break\n",
    "        \n",
    "        centroids = new_centroids\n",
    "    \n",
    "    return centroids, clusters\n",
    "\n",
    "# Load data from CSV file\n",
    "data = pd.read_csv('/kaggle/input/k-means')\n",
    "\n",
    "# Convert data to numpy array\n",
    "X = data.values\n",
    "\n",
    "# Perform k-means clustering\n",
    "K = 3\n",
    "centroids, clusters = kmeans(X, K)\n",
    "\n",
    "# Convert centroids list to numpy array\n",
    "centroids = np.array(centroids)\n",
    "\n",
    "# Plot the clusters and centroids\n",
    "colors = ['r', 'g', 'b']\n",
    "for i, cluster in enumerate(clusters):\n",
    "    for point in cluster:\n",
    "        plt.scatter(point[0], point[1], c=colors[i])\n",
    "plt.scatter(centroids[:, 0], centroids[:, 1], c='k', marker='x')\n",
    "plt.show()\n"
   ]
  }
 ],
 "metadata": {
  "kernelspec": {
   "display_name": "Python 3 (ipykernel)",
   "language": "python",
   "name": "python3"
  },
  "language_info": {
   "codemirror_mode": {
    "name": "ipython",
    "version": 3
   },
   "file_extension": ".py",
   "mimetype": "text/x-python",
   "name": "python",
   "nbconvert_exporter": "python",
   "pygments_lexer": "ipython3",
   "version": "3.9.13"
  }
 },
 "nbformat": 4,
 "nbformat_minor": 5
}
